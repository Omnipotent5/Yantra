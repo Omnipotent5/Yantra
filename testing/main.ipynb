{
 "cells": [
  {
   "cell_type": "code",
   "execution_count": 1,
   "metadata": {},
   "outputs": [
    {
     "name": "stdout",
     "output_type": "stream",
     "text": [
      "Requirement already satisfied: fastapi in c:\\users\\lenovo\\anaconda3\\lib\\site-packages (0.115.8)\n",
      "Requirement already satisfied: starlette<0.46.0,>=0.40.0 in c:\\users\\lenovo\\anaconda3\\lib\\site-packages (from fastapi) (0.45.3)\n",
      "Requirement already satisfied: pydantic!=1.8,!=1.8.1,!=2.0.0,!=2.0.1,!=2.1.0,<3.0.0,>=1.7.4 in c:\\users\\lenovo\\anaconda3\\lib\\site-packages (from fastapi) (2.8.2)\n",
      "Requirement already satisfied: typing-extensions>=4.8.0 in c:\\users\\lenovo\\anaconda3\\lib\\site-packages (from fastapi) (4.11.0)\n",
      "Requirement already satisfied: annotated-types>=0.4.0 in c:\\users\\lenovo\\anaconda3\\lib\\site-packages (from pydantic!=1.8,!=1.8.1,!=2.0.0,!=2.0.1,!=2.1.0,<3.0.0,>=1.7.4->fastapi) (0.6.0)\n",
      "Requirement already satisfied: pydantic-core==2.20.1 in c:\\users\\lenovo\\anaconda3\\lib\\site-packages (from pydantic!=1.8,!=1.8.1,!=2.0.0,!=2.0.1,!=2.1.0,<3.0.0,>=1.7.4->fastapi) (2.20.1)\n",
      "Requirement already satisfied: anyio<5,>=3.6.2 in c:\\users\\lenovo\\anaconda3\\lib\\site-packages (from starlette<0.46.0,>=0.40.0->fastapi) (4.2.0)\n",
      "Requirement already satisfied: idna>=2.8 in c:\\users\\lenovo\\anaconda3\\lib\\site-packages (from anyio<5,>=3.6.2->starlette<0.46.0,>=0.40.0->fastapi) (3.7)\n",
      "Requirement already satisfied: sniffio>=1.1 in c:\\users\\lenovo\\anaconda3\\lib\\site-packages (from anyio<5,>=3.6.2->starlette<0.46.0,>=0.40.0->fastapi) (1.3.0)\n",
      "Note: you may need to restart the kernel to use updated packages.\n"
     ]
    }
   ],
   "source": [
    "%pip install fastapi"
   ]
  },
  {
   "cell_type": "code",
   "execution_count": 2,
   "metadata": {},
   "outputs": [
    {
     "name": "stdout",
     "output_type": "stream",
     "text": [
      "Requirement already satisfied: pydantic in c:\\users\\lenovo\\anaconda3\\lib\\site-packages (2.8.2)\n",
      "Requirement already satisfied: annotated-types>=0.4.0 in c:\\users\\lenovo\\anaconda3\\lib\\site-packages (from pydantic) (0.6.0)\n",
      "Requirement already satisfied: pydantic-core==2.20.1 in c:\\users\\lenovo\\anaconda3\\lib\\site-packages (from pydantic) (2.20.1)\n",
      "Requirement already satisfied: typing-extensions>=4.6.1 in c:\\users\\lenovo\\anaconda3\\lib\\site-packages (from pydantic) (4.11.0)\n",
      "Note: you may need to restart the kernel to use updated packages.\n",
      "Requirement already satisfied: numpy in c:\\users\\lenovo\\anaconda3\\lib\\site-packages (1.26.4)\n",
      "Note: you may need to restart the kernel to use updated packages.\n",
      "Note: you may need to restart the kernel to use updated packages.\n"
     ]
    },
    {
     "name": "stderr",
     "output_type": "stream",
     "text": [
      "ERROR: Could not find a version that satisfies the requirement pickle (from versions: none)\n",
      "ERROR: No matching distribution found for pickle\n"
     ]
    },
    {
     "name": "stdout",
     "output_type": "stream",
     "text": [
      "Requirement already satisfied: uvicorn in c:\\users\\lenovo\\anaconda3\\lib\\site-packages (0.34.0)\n",
      "Requirement already satisfied: click>=7.0 in c:\\users\\lenovo\\anaconda3\\lib\\site-packages (from uvicorn) (8.1.7)\n",
      "Requirement already satisfied: h11>=0.8 in c:\\users\\lenovo\\anaconda3\\lib\\site-packages (from uvicorn) (0.14.0)\n",
      "Requirement already satisfied: colorama in c:\\users\\lenovo\\anaconda3\\lib\\site-packages (from click>=7.0->uvicorn) (0.4.6)\n",
      "Note: you may need to restart the kernel to use updated packages.\n"
     ]
    }
   ],
   "source": [
    "%pip install pydantic \n",
    "%pip install numpy \n",
    "%pip install pickle \n",
    "%pip install uvicorn"
   ]
  },
  {
   "cell_type": "code",
   "execution_count": 3,
   "metadata": {},
   "outputs": [
    {
     "name": "stdout",
     "output_type": "stream",
     "text": [
      "Requirement already satisfied: nest_asyncio in c:\\users\\lenovo\\anaconda3\\lib\\site-packages (1.6.0)\n",
      "Requirement already satisfied: uvicorn in c:\\users\\lenovo\\anaconda3\\lib\\site-packages (0.34.0)\n",
      "Requirement already satisfied: click>=7.0 in c:\\users\\lenovo\\anaconda3\\lib\\site-packages (from uvicorn) (8.1.7)\n",
      "Requirement already satisfied: h11>=0.8 in c:\\users\\lenovo\\anaconda3\\lib\\site-packages (from uvicorn) (0.14.0)\n",
      "Requirement already satisfied: colorama in c:\\users\\lenovo\\anaconda3\\lib\\site-packages (from click>=7.0->uvicorn) (0.4.6)\n",
      "Note: you may need to restart the kernel to use updated packages.\n"
     ]
    }
   ],
   "source": [
    "%pip install nest_asyncio uvicorn\n"
   ]
  },
  {
   "cell_type": "code",
   "execution_count": 4,
   "metadata": {},
   "outputs": [
    {
     "name": "stdout",
     "output_type": "stream",
     "text": [
      "Requirement already satisfied: scikit-learn in c:\\users\\lenovo\\anaconda3\\lib\\site-packages (1.6.1)\n",
      "Requirement already satisfied: numpy>=1.19.5 in c:\\users\\lenovo\\anaconda3\\lib\\site-packages (from scikit-learn) (1.26.4)\n",
      "Requirement already satisfied: scipy>=1.6.0 in c:\\users\\lenovo\\anaconda3\\lib\\site-packages (from scikit-learn) (1.13.1)\n",
      "Requirement already satisfied: joblib>=1.2.0 in c:\\users\\lenovo\\anaconda3\\lib\\site-packages (from scikit-learn) (1.4.2)\n",
      "Requirement already satisfied: threadpoolctl>=3.1.0 in c:\\users\\lenovo\\anaconda3\\lib\\site-packages (from scikit-learn) (3.5.0)\n",
      "Note: you may need to restart the kernel to use updated packages.\n"
     ]
    }
   ],
   "source": [
    "%pip install scikit-learn"
   ]
  },
  {
   "cell_type": "code",
   "execution_count": 5,
   "metadata": {},
   "outputs": [
    {
     "name": "stdout",
     "output_type": "stream",
     "text": [
      "Requirement already satisfied: xgboost in c:\\users\\lenovo\\anaconda3\\lib\\site-packages (2.1.3)\n",
      "Requirement already satisfied: numpy in c:\\users\\lenovo\\anaconda3\\lib\\site-packages (from xgboost) (1.26.4)\n",
      "Requirement already satisfied: scipy in c:\\users\\lenovo\\anaconda3\\lib\\site-packages (from xgboost) (1.13.1)\n",
      "Note: you may need to restart the kernel to use updated packages.\n",
      "Requirement already satisfied: python-multipart in c:\\users\\lenovo\\anaconda3\\lib\\site-packages (0.0.20)\n",
      "Note: you may need to restart the kernel to use updated packages.\n",
      "Requirement already satisfied: pandas in c:\\users\\lenovo\\anaconda3\\lib\\site-packages (2.2.2)\n",
      "Requirement already satisfied: numpy>=1.26.0 in c:\\users\\lenovo\\anaconda3\\lib\\site-packages (from pandas) (1.26.4)\n",
      "Requirement already satisfied: python-dateutil>=2.8.2 in c:\\users\\lenovo\\anaconda3\\lib\\site-packages (from pandas) (2.9.0.post0)\n",
      "Requirement already satisfied: pytz>=2020.1 in c:\\users\\lenovo\\anaconda3\\lib\\site-packages (from pandas) (2024.1)\n",
      "Requirement already satisfied: tzdata>=2022.7 in c:\\users\\lenovo\\anaconda3\\lib\\site-packages (from pandas) (2023.3)\n",
      "Requirement already satisfied: six>=1.5 in c:\\users\\lenovo\\anaconda3\\lib\\site-packages (from python-dateutil>=2.8.2->pandas) (1.16.0)\n",
      "Note: you may need to restart the kernel to use updated packages.\n"
     ]
    }
   ],
   "source": [
    "%pip install xgboost\n",
    "%pip install python-multipart\n",
    "%pip install pandas"
   ]
  },
  {
   "cell_type": "code",
   "execution_count": 6,
   "metadata": {},
   "outputs": [
    {
     "name": "stdout",
     "output_type": "stream",
     "text": [
      "app.py created successfully!\n"
     ]
    }
   ],
   "source": [
    "# Create app.py with FastAPI code\n",
    "app_code = \"\"\"\n",
    "from fastapi import FastAPI\n",
    "from fastapi.staticfiles import StaticFiles\n",
    "import nest_asyncio\n",
    "import uvicorn\n",
    "import joblib\n",
    "import pandas as pd\n",
    "from pydantic import BaseModel\n",
    "from urllib.parse import urlparse\n",
    "import re\n",
    "\n",
    "# Apply nest_asyncio to run in Jupyter Notebooks\n",
    "nest_asyncio.apply()\n",
    "\n",
    "app = FastAPI()\n",
    "\n",
    "# Serve static files\n",
    "app.mount(\"/\", StaticFiles(directory=\"static\", html=True), name=\"static\")\n",
    "\n",
    "# Load your XGBoost model\n",
    "model = joblib.load('XGBoostClassifier.pickle.dat')\n",
    "\n",
    "# Define the input data model\n",
    "class URLRequest(BaseModel):\n",
    "    url: str\n",
    "\n",
    "# Define the API for URL prediction\n",
    "@app.post(\"/predict\")\n",
    "async def predict(request: URLRequest):\n",
    "    url = request.url\n",
    "\n",
    "    features = extract_features(url)\n",
    "    prediction = model.predict(features)[0]\n",
    "    result = \"Phishing\" if prediction == 1 else \"Safe\"\n",
    "\n",
    "    return {\"url\": url, \"prediction\": result}\n",
    "\n",
    "# Feature extraction function\n",
    "def extract_features(url):\n",
    "    features = []\n",
    "    url = preprocess_url(url)\n",
    "    features.append(1 if re.search(r'\\\\d+\\\\.\\\\d+\\\\.\\\\d+\\\\.\\\\d+', url) else 0)  # IP in URL\n",
    "    features.append(1 if '@' in url else 0)  # '@' symbol in URL\n",
    "    features.append(1 if len(url) >= 54 else 0)  # Length of URL\n",
    "    return pd.DataFrame([features])\n",
    "\n",
    "def preprocess_url(url):\n",
    "    if not url.startswith(('http://', 'https://')):\n",
    "        url = 'http://' + url\n",
    "    return url\n",
    "\n",
    "if __name__ == \"__main__\":\n",
    "    uvicorn.run(app, host=\"127.0.0.1\", port=8001)\n",
    "\"\"\"\n",
    "\n",
    "# Write the code to app.py\n",
    "with open(\"app.py\", \"w\") as file:\n",
    "    file.write(app_code)\n",
    "\n",
    "print(\"app.py created successfully!\")\n",
    "\n"
   ]
  },
  {
   "cell_type": "code",
   "execution_count": 7,
   "metadata": {},
   "outputs": [
    {
     "name": "stdout",
     "output_type": "stream",
     "text": [
      "['.venv', 'app.py', 'DataFiles', 'file.txt', 'final_dataset.csv', 'main.ipynb', 'models', 'Phishing_Website.ipynb', 'requirements.txt', 'static', 'URL_extraction.ipynb', 'XGBoostClassifier.pickle.dat', '__pycache__']\n"
     ]
    }
   ],
   "source": [
    "import os\n",
    "print(os.listdir('.'))  # This will show all files in the current directory\n"
   ]
  },
  {
   "cell_type": "code",
   "execution_count": 8,
   "metadata": {},
   "outputs": [
    {
     "name": "stdout",
     "output_type": "stream",
     "text": [
      "Backslash issue fixed in app.py!\n"
     ]
    }
   ],
   "source": [
    "# Update app.py to fix the backslash issue\n",
    "with open(\"app.py\", \"r\") as file:\n",
    "    app_code = file.read()\n",
    "\n",
    "# Replace backslashes with forward slashes\n",
    "app_code = app_code.replace(\"models\\\\xgboost_model.pkl\", \"models/xgboost_model.pkl\")\n",
    "\n",
    "# Save the updated code back to app.py\n",
    "with open(\"app.py\", \"w\") as file:\n",
    "    file.write(app_code)\n",
    "\n",
    "print(\"Backslash issue fixed in app.py!\")\n"
   ]
  },
  {
   "cell_type": "code",
   "execution_count": 9,
   "metadata": {},
   "outputs": [
    {
     "name": "stderr",
     "output_type": "stream",
     "text": [
      "INFO:     Started server process [5396]\n",
      "INFO:     Waiting for application startup.\n",
      "INFO:     Application startup complete.\n",
      "INFO:     Uvicorn running on http://127.0.0.1:8001 (Press CTRL+C to quit)\n"
     ]
    },
    {
     "name": "stdout",
     "output_type": "stream",
     "text": [
      "INFO:     127.0.0.1:54027 - \"GET / HTTP/1.1\" 304 Not Modified\n",
      "INFO:     127.0.0.1:54027 - \"GET /static/styles.css HTTP/1.1\" 404 Not Found\n",
      "INFO:     127.0.0.1:54028 - \"GET /static/script.js HTTP/1.1\" 404 Not Found\n",
      "INFO:     127.0.0.1:54030 - \"GET / HTTP/1.1\" 200 OK\n",
      "INFO:     127.0.0.1:54030 - \"GET /styles.css HTTP/1.1\" 304 Not Modified\n",
      "INFO:     127.0.0.1:54031 - \"GET /script.js HTTP/1.1\" 200 OK\n",
      "INFO:     127.0.0.1:54032 - \"POST /predict HTTP/1.1\" 405 Method Not Allowed\n",
      "INFO:     127.0.0.1:51557 - \"GET / HTTP/1.1\" 304 Not Modified\n",
      "INFO:     127.0.0.1:51557 - \"GET /styles.css HTTP/1.1\" 304 Not Modified\n",
      "INFO:     127.0.0.1:51558 - \"GET /script.js HTTP/1.1\" 304 Not Modified\n",
      "INFO:     127.0.0.1:51586 - \"POST /predict HTTP/1.1\" 405 Method Not Allowed\n",
      "INFO:     127.0.0.1:51623 - \"POST /predict HTTP/1.1\" 405 Method Not Allowed\n"
     ]
    },
    {
     "ename": "",
     "evalue": "",
     "output_type": "error",
     "traceback": [
      "\u001b[1;31mThe Kernel crashed while executing code in the current cell or a previous cell. \n",
      "\u001b[1;31mPlease review the code in the cell(s) to identify a possible cause of the failure. \n",
      "\u001b[1;31mClick <a href='https://aka.ms/vscodeJupyterKernelCrash'>here</a> for more info. \n",
      "\u001b[1;31mView Jupyter <a href='command:jupyter.viewOutput'>log</a> for further details."
     ]
    }
   ],
   "source": [
    "import uvicorn\n",
    "from threading import Thread\n",
    "import nest_asyncio\n",
    "\n",
    "# Apply nest_asyncio to prevent conflicts in Jupyter Notebook\n",
    "nest_asyncio.apply()\n",
    "\n",
    "def run_api():\n",
    "    uvicorn.run(\"app:app\", host=\"127.0.0.1\", port=8001)\n",
    "\n",
    "# Run the FastAPI server in a background thread\n",
    "api_thread = Thread(target=run_api)\n",
    "api_thread.start()\n"
   ]
  },
  {
   "cell_type": "markdown",
   "metadata": {},
   "source": []
  }
 ],
 "metadata": {
  "kernelspec": {
   "display_name": "base",
   "language": "python",
   "name": "python3"
  },
  "language_info": {
   "codemirror_mode": {
    "name": "ipython",
    "version": 3
   },
   "file_extension": ".py",
   "mimetype": "text/x-python",
   "name": "python",
   "nbconvert_exporter": "python",
   "pygments_lexer": "ipython3",
   "version": "3.12.7"
  }
 },
 "nbformat": 4,
 "nbformat_minor": 2
}
